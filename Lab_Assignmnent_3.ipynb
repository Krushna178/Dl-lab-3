{
  "nbformat": 4,
  "nbformat_minor": 0,
  "metadata": {
    "colab": {
      "provenance": []
    },
    "kernelspec": {
      "name": "python3",
      "display_name": "Python 3"
    },
    "language_info": {
      "name": "python"
    }
  },
  "cells": [
    {
      "cell_type": "code",
      "source": [
        ""
      ],
      "metadata": {
        "id": "bupJkv4bvqoC"
      },
      "execution_count": null,
      "outputs": []
    },
    {
      "cell_type": "markdown",
      "source": [
        "# Google Colab Lab Assignment -YOLO 11 Model\n",
        "\n",
        "**Course Name:** deep learning\n",
        "\n",
        "**Lab Title:** Yolo11 -Model-Application Name(Custom Dataset should be Different for each group)\n",
        "\n",
        "**Student Name:** krushna aware\n",
        "\n",
        "**Student ID:** 202201040125, 51\n",
        "\n",
        "**Date of Submission:** 20-3-24\n",
        "\n",
        "**Group Members**: krushna aware\n",
        "                   prathamesh lad\n",
        "                   rushikesh sawant\n",
        "\n",
        "\n",
        "**Objective**\n",
        "The purpose of this lab is to understand and implement YOLOv11 for real-time object detection. Students will perform dataset preparation, model implementation, inference, and performance evaluation.\n",
        "\n",
        "\n"
      ],
      "metadata": {
        "id": "qfwaeuSgcupl"
      }
    },
    {
      "cell_type": "markdown",
      "source": [
        "**Task 1: Environment Setup and YOLOv11 Installation**\n",
        "\n",
        "Objective: Set up the required libraries and dependencies to run YOLOv11.\n",
        "\n",
        "**Instructions:**\n",
        "\n",
        "1. Install Python and required libraries (PyTorch, OpenCV, Ultralytics, etc.).\n",
        "2. Install YOLOv11 from the official repository.\n",
        "3. Verify the installation by running a sample script.\n",
        "4. **Expected Outcome:** A functional YOLOv11 environment ready for experimentation.\n"
      ],
      "metadata": {
        "id": "nN1DLv3exqNw"
      }
    },
    {
      "cell_type": "code",
      "execution_count": null,
      "metadata": {
        "id": "igK8ap2qct_p"
      },
      "outputs": [],
      "source": [
        "# Code Task 1"
      ]
    },
    {
      "cell_type": "markdown",
      "source": [
        "**Task 2: Dataset Preparation & Preprocessing**\n",
        "Objective: Load and preprocess a dataset for object detection.\n",
        "\n",
        "Instructions:\n",
        "\n",
        "1. Choose a Dataset – Use COCO, Pascal VOC, or a custom dataset.\n",
        "2. Annotate Images – If using a custom dataset, label objects using Roboflow or LabelImg.\n",
        "3. Convert Annotations – Use Roboflow to export the dataset in YOLO format.\n",
        "4. Download the Dataset – Use the Roboflow API to fetch the dataset.\n",
        "5. Split the Dataset – Divide into train (80%), validation (10%), and test (10%).\n",
        "5. **Expected Outcome:** A well-structured dataset in YOLO format.\n",
        "\n",
        "\n"
      ],
      "metadata": {
        "id": "hPA-RFjFc3hF"
      }
    },
    {
      "cell_type": "code",
      "source": [
        "#Code for Task. 2"
      ],
      "metadata": {
        "id": "rQfj_h-Qc6zt"
      },
      "execution_count": null,
      "outputs": []
    },
    {
      "cell_type": "markdown",
      "source": [
        "\n",
        "**Task 3: Training YOLOv11 Model**\n",
        "Objective: Train YOLOv11 on the prepared dataset.\n",
        "\n",
        "Instructions:\n",
        "\n",
        "1. Configure the training parameters (batch size, epochs, learning rate).\n",
        "2. Train the YOLOv11 model using the dataset.\n",
        "3. Monitor training progress (loss, accuracy, mAP).\n",
        "4. Save the trained model weights.\n",
        "5. Expected Outcome: A trained YOLOv11 model ready for inference.\n",
        "\n",
        "\n",
        "\n",
        "\n"
      ],
      "metadata": {
        "id": "CuEXacYmc8lm"
      }
    },
    {
      "cell_type": "code",
      "source": [
        "#code for task 3"
      ],
      "metadata": {
        "id": "-b2Z6SaydAfQ"
      },
      "execution_count": 1,
      "outputs": []
    },
    {
      "cell_type": "markdown",
      "source": [
        "**Task 4:**Model Inference and Evaluation\n",
        "Objective: Test the trained model on new images and videos.\n",
        "\n",
        "Instructions:\n",
        "\n",
        "1.  Load the trained model weights.\n",
        "2.  Run object detection on test images and videos.\n",
        "3.  Evaluate the model performance using mAP (mean Average Precision), precision, recall.\n",
        "\n",
        "✅ Mean Average Precision (mAP@50, mAP@50-95) – Measures model accuracy across different IoU thresholds.\n",
        "\n",
        "✅ Precision & Recall – Evaluates the tradeoff between false positives and false negatives.\n",
        "\n",
        "✅ F1 Score – Balances precision and recall for a comprehensive model assessment.\n",
        "\n",
        "**Discuss the results in detail**\n",
        "4.  Visualize results with bounding boxes.\n",
        "5.  Expected Outcome: Detection results with bounding boxes and performance metrics.\n",
        "\n"
      ],
      "metadata": {
        "id": "dtbux4Mfc_MK"
      }
    },
    {
      "cell_type": "markdown",
      "source": [
        "**Discussion and Conclusion on Result Analysis** *##Add Text##*\n"
      ],
      "metadata": {
        "id": "4xnsvv56Nsth"
      }
    },
    {
      "cell_type": "code",
      "source": [
        "# Code for Task 4"
      ],
      "metadata": {
        "id": "uF7Tv5E3c_lo"
      },
      "execution_count": null,
      "outputs": []
    },
    {
      "cell_type": "markdown",
      "source": [
        "**Declaration**\n",
        "\n",
        "I, krushna aware, confirm that the work submitted in this assignment is my own and has been completed following academic integrity guidelines. The code is uploaded on my GitHub repository account, and the repository link is provided below:\n",
        "\n",
        "GitHub Repository Link: https://github.com/Krushna178/Dl-lab-3.git\n",
        "\n",
        "Signature: krushna pradeep aware"
      ],
      "metadata": {
        "id": "cox9wwws8QoT"
      }
    },
    {
      "cell_type": "markdown",
      "source": [
        "**Submission Checklist**\n",
        "\n",
        "✔ Ultralitycs Platform Documentsation Like hel file for Given Task\n",
        "\n",
        "✔ Code file (Python Notebook or Script)\n",
        "\n",
        "✔ Dataset or link to the dataset\n",
        "\n",
        "✔ Visualizations (if applicable)\n",
        "\n",
        "✔ Screenshots of model performance metrics\n",
        "\n",
        "✔ Readme File\n",
        "\n",
        "✔ Evaluation Metrics Details and discussion"
      ],
      "metadata": {
        "id": "xXk9pnhy8S2M"
      }
    }
  ]
}